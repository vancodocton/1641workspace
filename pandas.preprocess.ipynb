{
 "metadata": {
  "language_info": {
   "codemirror_mode": {
    "name": "ipython",
    "version": 3
   },
   "file_extension": ".py",
   "mimetype": "text/x-python",
   "name": "python",
   "nbconvert_exporter": "python",
   "pygments_lexer": "ipython3",
   "version": "3.8.8"
  },
  "orig_nbformat": 2,
  "kernelspec": {
   "name": "python3",
   "display_name": "Python 3.8.8 64-bit ('base': conda)"
  },
  "interpreter": {
   "hash": "9b996767fbd90d316bf01e24d5372486226990761c4b6556528915de02c83fbc"
  }
 },
 "nbformat": 4,
 "nbformat_minor": 2,
 "cells": [
  {
   "cell_type": "code",
   "execution_count": 1,
   "metadata": {},
   "outputs": [],
   "source": [
    "# import libraries\n",
    "import pandas\n",
    "import numpy"
   ]
  },
  {
   "cell_type": "code",
   "execution_count": 2,
   "metadata": {},
   "outputs": [
    {
     "output_type": "stream",
     "name": "stdout",
     "text": [
      "<class 'pandas.core.frame.DataFrame'>\nRangeIndex: 13608 entries, 0 to 13607\nData columns (total 20 columns):\n #   Column                        Non-Null Count  Dtype  \n---  ------                        --------------  -----  \n 0   id                            13608 non-null  int64  \n 1   title                         13608 non-null  object \n 2   url                           13608 non-null  object \n 3   is_paid                       13608 non-null  bool   \n 4   num_subscribers               13608 non-null  int64  \n 5   avg_rating                    13608 non-null  float64\n 6   avg_rating_recent             13608 non-null  float64\n 7   rating                        13608 non-null  float64\n 8   num_reviews                   13608 non-null  int64  \n 9   is_wishlisted                 13608 non-null  bool   \n 10  num_published_lectures        13608 non-null  int64  \n 11  num_published_practice_tests  13608 non-null  int64  \n 12  created                       13608 non-null  object \n 13  published_time                13608 non-null  object \n 14  discount_price__amount        12205 non-null  float64\n 15  discount_price__currency      12205 non-null  object \n 16  discount_price__price_string  12205 non-null  object \n 17  price_detail__amount          13111 non-null  float64\n 18  price_detail__currency        13111 non-null  object \n 19  price_detail__price_string    13111 non-null  object \ndtypes: bool(2), float64(5), int64(5), object(8)\nmemory usage: 1.9+ MB\n"
     ]
    }
   ],
   "source": [
    "# assign directory\n",
    "dir_name = './datasets/'\n",
    "file_name = 'onuni.FinanceAccounting.csv'\n",
    "\n",
    "# load dataframe\n",
    "df = pandas.read_csv(dir_name + file_name, encoding=\"utf-8\", nrows=None)\n",
    "df.info()"
   ]
  },
  {
   "cell_type": "code",
   "execution_count": 3,
   "metadata": {},
   "outputs": [
    {
     "output_type": "execute_result",
     "data": {
      "text/plain": [
       "        id                                              title  \\\n",
       "0   762616  The Complete SQL Bootcamp 2020: Go from Zero t...   \n",
       "1   937678  Tableau 2020 A-Z: Hands-On Tableau Training fo...   \n",
       "2  1361790             PMP Exam Prep Seminar -  PMBOK Guide 6   \n",
       "3   648826         The Complete Financial Analyst Course 2020   \n",
       "4   637930  An Entire MBA in 1 Course:Award Winning Busine...   \n",
       "\n",
       "                                                 url  is_paid  \\\n",
       "0                 /course/the-complete-sql-bootcamp/     True   \n",
       "1                                 /course/tableau10/     True   \n",
       "2                        /course/pmp-pmbok6-35-pdus/     True   \n",
       "3     /course/the-complete-financial-analyst-course/     True   \n",
       "4  /course/an-entire-mba-in-1-courseaward-winning...     True   \n",
       "\n",
       "   num_subscribers  avg_rating  avg_rating_recent   rating  num_reviews  \\\n",
       "0           295509     4.66019            4.67874  4.67874        78006   \n",
       "1           209070     4.58956            4.60015  4.60015        54581   \n",
       "2           155282     4.59491            4.59326  4.59326        52653   \n",
       "3           245860     4.54407            4.53772  4.53772        46447   \n",
       "4           374836     4.47080            4.47173  4.47173        41630   \n",
       "\n",
       "   is_wishlisted  num_published_lectures  num_published_practice_tests  \\\n",
       "0          False                      84                             0   \n",
       "1          False                      78                             0   \n",
       "2          False                     292                             2   \n",
       "3          False                     338                             0   \n",
       "4          False                      83                             0   \n",
       "\n",
       "                created        published_time  discount_price__amount  \\\n",
       "0  2016-02-14T22:57:48Z  2016-04-06T05:16:11Z                   455.0   \n",
       "1  2016-08-22T12:10:18Z  2016-08-23T16:59:49Z                   455.0   \n",
       "2  2017-09-26T16:32:48Z  2017-11-14T23:58:14Z                   455.0   \n",
       "3  2015-10-23T13:34:35Z  2016-01-21T01:38:48Z                   455.0   \n",
       "4  2015-10-12T06:39:46Z  2016-01-11T21:39:33Z                   455.0   \n",
       "\n",
       "  discount_price__currency discount_price__price_string  price_detail__amount  \\\n",
       "0                      INR                         ₹455                8640.0   \n",
       "1                      INR                         ₹455                8640.0   \n",
       "2                      INR                         ₹455                8640.0   \n",
       "3                      INR                         ₹455                8640.0   \n",
       "4                      INR                         ₹455                8640.0   \n",
       "\n",
       "  price_detail__currency price_detail__price_string  \n",
       "0                    INR                     ₹8,640  \n",
       "1                    INR                     ₹8,640  \n",
       "2                    INR                     ₹8,640  \n",
       "3                    INR                     ₹8,640  \n",
       "4                    INR                     ₹8,640  "
      ],
      "text/html": "<div>\n<style scoped>\n    .dataframe tbody tr th:only-of-type {\n        vertical-align: middle;\n    }\n\n    .dataframe tbody tr th {\n        vertical-align: top;\n    }\n\n    .dataframe thead th {\n        text-align: right;\n    }\n</style>\n<table border=\"1\" class=\"dataframe\">\n  <thead>\n    <tr style=\"text-align: right;\">\n      <th></th>\n      <th>id</th>\n      <th>title</th>\n      <th>url</th>\n      <th>is_paid</th>\n      <th>num_subscribers</th>\n      <th>avg_rating</th>\n      <th>avg_rating_recent</th>\n      <th>rating</th>\n      <th>num_reviews</th>\n      <th>is_wishlisted</th>\n      <th>num_published_lectures</th>\n      <th>num_published_practice_tests</th>\n      <th>created</th>\n      <th>published_time</th>\n      <th>discount_price__amount</th>\n      <th>discount_price__currency</th>\n      <th>discount_price__price_string</th>\n      <th>price_detail__amount</th>\n      <th>price_detail__currency</th>\n      <th>price_detail__price_string</th>\n    </tr>\n  </thead>\n  <tbody>\n    <tr>\n      <th>0</th>\n      <td>762616</td>\n      <td>The Complete SQL Bootcamp 2020: Go from Zero t...</td>\n      <td>/course/the-complete-sql-bootcamp/</td>\n      <td>True</td>\n      <td>295509</td>\n      <td>4.66019</td>\n      <td>4.67874</td>\n      <td>4.67874</td>\n      <td>78006</td>\n      <td>False</td>\n      <td>84</td>\n      <td>0</td>\n      <td>2016-02-14T22:57:48Z</td>\n      <td>2016-04-06T05:16:11Z</td>\n      <td>455.0</td>\n      <td>INR</td>\n      <td>₹455</td>\n      <td>8640.0</td>\n      <td>INR</td>\n      <td>₹8,640</td>\n    </tr>\n    <tr>\n      <th>1</th>\n      <td>937678</td>\n      <td>Tableau 2020 A-Z: Hands-On Tableau Training fo...</td>\n      <td>/course/tableau10/</td>\n      <td>True</td>\n      <td>209070</td>\n      <td>4.58956</td>\n      <td>4.60015</td>\n      <td>4.60015</td>\n      <td>54581</td>\n      <td>False</td>\n      <td>78</td>\n      <td>0</td>\n      <td>2016-08-22T12:10:18Z</td>\n      <td>2016-08-23T16:59:49Z</td>\n      <td>455.0</td>\n      <td>INR</td>\n      <td>₹455</td>\n      <td>8640.0</td>\n      <td>INR</td>\n      <td>₹8,640</td>\n    </tr>\n    <tr>\n      <th>2</th>\n      <td>1361790</td>\n      <td>PMP Exam Prep Seminar -  PMBOK Guide 6</td>\n      <td>/course/pmp-pmbok6-35-pdus/</td>\n      <td>True</td>\n      <td>155282</td>\n      <td>4.59491</td>\n      <td>4.59326</td>\n      <td>4.59326</td>\n      <td>52653</td>\n      <td>False</td>\n      <td>292</td>\n      <td>2</td>\n      <td>2017-09-26T16:32:48Z</td>\n      <td>2017-11-14T23:58:14Z</td>\n      <td>455.0</td>\n      <td>INR</td>\n      <td>₹455</td>\n      <td>8640.0</td>\n      <td>INR</td>\n      <td>₹8,640</td>\n    </tr>\n    <tr>\n      <th>3</th>\n      <td>648826</td>\n      <td>The Complete Financial Analyst Course 2020</td>\n      <td>/course/the-complete-financial-analyst-course/</td>\n      <td>True</td>\n      <td>245860</td>\n      <td>4.54407</td>\n      <td>4.53772</td>\n      <td>4.53772</td>\n      <td>46447</td>\n      <td>False</td>\n      <td>338</td>\n      <td>0</td>\n      <td>2015-10-23T13:34:35Z</td>\n      <td>2016-01-21T01:38:48Z</td>\n      <td>455.0</td>\n      <td>INR</td>\n      <td>₹455</td>\n      <td>8640.0</td>\n      <td>INR</td>\n      <td>₹8,640</td>\n    </tr>\n    <tr>\n      <th>4</th>\n      <td>637930</td>\n      <td>An Entire MBA in 1 Course:Award Winning Busine...</td>\n      <td>/course/an-entire-mba-in-1-courseaward-winning...</td>\n      <td>True</td>\n      <td>374836</td>\n      <td>4.47080</td>\n      <td>4.47173</td>\n      <td>4.47173</td>\n      <td>41630</td>\n      <td>False</td>\n      <td>83</td>\n      <td>0</td>\n      <td>2015-10-12T06:39:46Z</td>\n      <td>2016-01-11T21:39:33Z</td>\n      <td>455.0</td>\n      <td>INR</td>\n      <td>₹455</td>\n      <td>8640.0</td>\n      <td>INR</td>\n      <td>₹8,640</td>\n    </tr>\n  </tbody>\n</table>\n</div>"
     },
     "metadata": {},
     "execution_count": 3
    }
   ],
   "source": [
    "# check the inputted dataframe\n",
    "df.head()"
   ]
  },
  {
   "cell_type": "code",
   "execution_count": 4,
   "metadata": {},
   "outputs": [
    {
     "output_type": "execute_result",
     "data": {
      "text/plain": [
       "True"
      ]
     },
     "metadata": {},
     "execution_count": 4
    }
   ],
   "source": [
    "# check if column rating and avg_rating_recent is the same or not\n",
    "(df['rating'] == df['avg_rating_recent']).all()"
   ]
  },
  {
   "cell_type": "code",
   "execution_count": 5,
   "metadata": {},
   "outputs": [
    {
     "output_type": "stream",
     "name": "stdout",
     "text": [
      "<class 'pandas.core.frame.DataFrame'>\nRangeIndex: 13608 entries, 0 to 13607\nData columns (total 13 columns):\n #   Column                        Non-Null Count  Dtype  \n---  ------                        --------------  -----  \n 0   id                            13608 non-null  int64  \n 1   title                         13608 non-null  object \n 2   is_paid                       13608 non-null  bool   \n 3   num_subscribers               13608 non-null  int64  \n 4   avg_rating                    13608 non-null  float64\n 5   rating                        13608 non-null  float64\n 6   num_reviews                   13608 non-null  int64  \n 7   num_published_lectures        13608 non-null  int64  \n 8   num_published_practice_tests  13608 non-null  int64  \n 9   created                       13608 non-null  object \n 10  published_time                13608 non-null  object \n 11  discount_price__amount        12205 non-null  float64\n 12  price_detail__amount          13111 non-null  float64\ndtypes: bool(1), float64(4), int64(5), object(3)\nmemory usage: 1.3+ MB\n"
     ]
    }
   ],
   "source": [
    "# drop unused, irrelevant, and redundant columns.\n",
    "dropcols = ['is_wishlisted',\\\n",
    "            'url', \\\n",
    "            'price_detail__currency',\\\n",
    "            'discount_price__currency',\\\n",
    "            'price_detail__price_string',\\\n",
    "            'discount_price__price_string',\\\n",
    "            'avg_rating_recent']\n",
    "df = df.drop(dropcols, axis=1)\n",
    "df.info()"
   ]
  },
  {
   "cell_type": "code",
   "execution_count": 6,
   "metadata": {},
   "outputs": [
    {
     "output_type": "stream",
     "name": "stdout",
     "text": [
      "<class 'pandas.core.frame.DataFrame'>\nRangeIndex: 13608 entries, 0 to 13607\nData columns (total 13 columns):\n #   Column           Non-Null Count  Dtype  \n---  ------           --------------  -----  \n 0   id               13608 non-null  int64  \n 1   title            13608 non-null  object \n 2   is_paid          13608 non-null  bool   \n 3   num_subscribers  13608 non-null  int64  \n 4   average_rating   13608 non-null  float64\n 5   rating           13608 non-null  float64\n 6   num_reviews      13608 non-null  int64  \n 7   num_lectures     13608 non-null  int64  \n 8   num_tests        13608 non-null  int64  \n 9   time_created     13608 non-null  object \n 10  time_published   13608 non-null  object \n 11  discount         12205 non-null  float64\n 12  price            13111 non-null  float64\ndtypes: bool(1), float64(4), int64(5), object(3)\nmemory usage: 1.3+ MB\n"
     ]
    }
   ],
   "source": [
    "# rename columns\n",
    "df.rename(columns={'num_published_lectures' : 'num_lectures', \\\n",
    "                    'num_published_practice_tests' : 'num_tests', \\\n",
    "                    'avg_rating' : 'average_rating', \\\n",
    "                    'created' : 'time_created', \n",
    "                    'published_time' : 'time_published', \\\n",
    "                    'discount_price__amount' : 'discount', \\\n",
    "                    'price_detail__amount' : 'price'}, inplace=True)\n",
    "df.info()"
   ]
  },
  {
   "cell_type": "code",
   "execution_count": 7,
   "metadata": {},
   "outputs": [
    {
     "output_type": "execute_result",
     "data": {
      "text/plain": [
       "id                    0\n",
       "title                 0\n",
       "is_paid               0\n",
       "num_subscribers       0\n",
       "average_rating        0\n",
       "rating                0\n",
       "num_reviews           0\n",
       "num_lectures          0\n",
       "num_tests             0\n",
       "time_created          0\n",
       "time_published        0\n",
       "discount           1403\n",
       "price               497\n",
       "dtype: int64"
      ]
     },
     "metadata": {},
     "execution_count": 7
    }
   ],
   "source": [
    "# check null cell in dataframe\n",
    "df.isnull().sum()"
   ]
  },
  {
   "cell_type": "code",
   "execution_count": 8,
   "metadata": {},
   "outputs": [
    {
     "output_type": "execute_result",
     "data": {
      "text/plain": [
       "id                 0\n",
       "title              0\n",
       "is_paid            0\n",
       "num_subscribers    0\n",
       "average_rating     0\n",
       "rating             0\n",
       "num_reviews        0\n",
       "num_lectures       0\n",
       "num_tests          0\n",
       "time_created       0\n",
       "time_published     0\n",
       "discount           0\n",
       "price              0\n",
       "dtype: int64"
      ]
     },
     "metadata": {},
     "execution_count": 8
    }
   ],
   "source": [
    "# replace null cell in 'price_detail__amount' \n",
    "# and 'discount_price__amount'\n",
    "isNull = lambda x: 0 if pandas.isnull(x) else x\n",
    "df['price'] = df['price']\\\n",
    "    .apply(isNull) \n",
    "df['discount'] = df['discount']\\\n",
    "    .apply(isNull)\n",
    "df.isnull().sum()"
   ]
  },
  {
   "cell_type": "code",
   "execution_count": 9,
   "metadata": {},
   "outputs": [
    {
     "output_type": "stream",
     "name": "stdout",
     "text": [
      "[ 8640.  5760.  1280.  9280.  2560.  4800.  6720.  2240.  1920. 10240.\n  3200.  8960.  6400.  7040.  9600. 12800.  7680.  2880.  4480.  5440.\n  1600.  6080.  3520.  8320.  7360.  4160.  8000.  3840.  5120. 12160.\n 11520.  9920. 11840. 12480. 10560. 11200.     0. 10880.]\n[ 455.  500.    0.  540.  546.  533.  481.  488.  474.  462. 2880.  494.\n 1600.  800. 2080.  520.  468.  507.  700.  514.  552.  640. 3200.  960.\n 2720. 1920. 1680.  611. 2400.  720. 1280. 2000. 2240. 3040. 2160. 1360.\n 1760. 2480. 1120.  760. 1520. 1440.  480. 2320. 1200. 2560. 1840. 2800.\n 2960.  560. 2640. 1040.  880. 3120.]\n"
     ]
    }
   ],
   "source": [
    "# Check the price and discount of courses\n",
    "print(df['price'].unique())\n",
    "print(df['discount'].unique())"
   ]
  },
  {
   "cell_type": "code",
   "execution_count": 10,
   "metadata": {},
   "outputs": [
    {
     "output_type": "stream",
     "name": "stdout",
     "text": [
      "[117.          78.          17.33333333 125.66666667  34.66666667\n  65.          91.          30.33333333  26.         138.66666667\n  43.33333333 121.33333333  86.66666667  95.33333333 130.\n 173.33333333 104.          39.          60.66666667  73.66666667\n  21.66666667  82.33333333  47.66666667 112.66666667  99.66666667\n  56.33333333 108.33333333  52.          69.33333333 164.66666667\n 156.         134.33333333 160.33333333 169.         143.\n 151.66666667   0.         147.33333333]\n[ 6.16145833  6.77083333  0.          7.3125      7.39375     7.21770833\n  6.51354167  6.60833333  6.41875     6.25625    39.          6.68958333\n 21.66666667 10.83333333 28.16666667  7.04166667  6.3375      6.865625\n  9.47916667  6.96041667  7.475       8.66666667 43.33333333 13.\n 36.83333333 26.         22.75        8.27395833 32.5         9.75\n 17.33333333 27.08333333 30.33333333 41.16666667 29.25       18.41666667\n 23.83333333 33.58333333 15.16666667 10.29166667 20.58333333 19.5\n  6.5        31.41666667 16.25       34.66666667 24.91666667 37.91666667\n 40.08333333  7.58333333 35.75       14.08333333 11.91666667 42.25      ]\n"
     ]
    }
   ],
   "source": [
    "# coverrt currency from INR to USD\n",
    "# the average conversion factor is 0.013593 referenced from \n",
    "# https://www.x-rates.com/average/?from=USD&to=INR&amount=1&year=2020 in 2020 Sep\n",
    "# for rounding, the chosen conversion factor is 117/8640 ~ 0.013541(6)\n",
    "conversion_factor = 117/8640\n",
    "df['price'] *= conversion_factor\n",
    "df['discount'] *= conversion_factor\n",
    "# Check the price and discount of courses\n",
    "print(df['price'].unique())\n",
    "print(df['discount'].unique())"
   ]
  },
  {
   "cell_type": "code",
   "execution_count": 11,
   "metadata": {},
   "outputs": [
    {
     "output_type": "stream",
     "name": "stdout",
     "text": [
      "[117.          78.          17.33333333 125.66666667  34.66666667\n  65.          91.          30.33333333  26.         138.66666667\n  43.33333333 121.33333333  86.66666667  95.33333333 130.\n 173.33333333 104.          39.          60.66666667  73.66666667\n  21.66666667  82.33333333  47.66666667 112.66666667  99.66666667\n  56.33333333 108.33333333  52.          69.33333333 164.66666667\n 156.         134.33333333 160.33333333 169.         143.\n 151.66666667   0.         147.33333333]\n[ 6.16145833  6.77083333  0.          7.3125      7.39375     7.21770833\n  6.51354167  6.60833333  6.41875     6.25625    39.          6.68958333\n 21.66666667 10.83333333 28.16666667  7.04166667  6.3375      6.865625\n  9.47916667  6.96041667  7.475       8.66666667 43.33333333 13.\n 36.83333333 26.         22.75        8.27395833 32.5         9.75\n 17.33333333 27.08333333 30.33333333 41.16666667 29.25       18.41666667\n 23.83333333 33.58333333 15.16666667 10.29166667 20.58333333 19.5\n  6.5        31.41666667 16.25       34.66666667 24.91666667 37.91666667\n 40.08333333  7.58333333 35.75       14.08333333 11.91666667 42.25      ]\n"
     ]
    }
   ],
   "source": [
    "print(df['price'].unique())\n",
    "print(df['discount'].unique())  "
   ]
  },
  {
   "cell_type": "code",
   "execution_count": 12,
   "metadata": {},
   "outputs": [
    {
     "output_type": "execute_result",
     "data": {
      "text/plain": [
       "   rating_deviation  discount_percent\n",
       "0           0.01855          5.266204\n",
       "1           0.01059          5.266204\n",
       "2          -0.00165          5.266204\n",
       "3          -0.00635          5.266204\n",
       "4           0.00093          5.266204"
      ],
      "text/html": "<div>\n<style scoped>\n    .dataframe tbody tr th:only-of-type {\n        vertical-align: middle;\n    }\n\n    .dataframe tbody tr th {\n        vertical-align: top;\n    }\n\n    .dataframe thead th {\n        text-align: right;\n    }\n</style>\n<table border=\"1\" class=\"dataframe\">\n  <thead>\n    <tr style=\"text-align: right;\">\n      <th></th>\n      <th>rating_deviation</th>\n      <th>discount_percent</th>\n    </tr>\n  </thead>\n  <tbody>\n    <tr>\n      <th>0</th>\n      <td>0.01855</td>\n      <td>5.266204</td>\n    </tr>\n    <tr>\n      <th>1</th>\n      <td>0.01059</td>\n      <td>5.266204</td>\n    </tr>\n    <tr>\n      <th>2</th>\n      <td>-0.00165</td>\n      <td>5.266204</td>\n    </tr>\n    <tr>\n      <th>3</th>\n      <td>-0.00635</td>\n      <td>5.266204</td>\n    </tr>\n    <tr>\n      <th>4</th>\n      <td>0.00093</td>\n      <td>5.266204</td>\n    </tr>\n  </tbody>\n</table>\n</div>"
     },
     "metadata": {},
     "execution_count": 12
    }
   ],
   "source": [
    "# add calculation to dataframe\n",
    "df['discount_percent'] = (df['discount'] * 100.0 / df['price'])\\\n",
    "    .apply(isNull)\n",
    "df['discount_percent'].apply(lambda x: 0 )\n",
    "df['rating_deviation'] = df['rating'] - df['average_rating']\n",
    "df[{'rating_deviation', 'discount_percent'}].head()"
   ]
  },
  {
   "cell_type": "code",
   "execution_count": 13,
   "metadata": {},
   "outputs": [],
   "source": [
    "df.to_csv(dir_name + 'preprocessed.' + file_name, encoding=\"utf-8\")"
   ]
  }
 ]
}