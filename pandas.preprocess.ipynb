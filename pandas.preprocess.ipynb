{
 "metadata": {
  "language_info": {
   "codemirror_mode": {
    "name": "ipython",
    "version": 3
   },
   "file_extension": ".py",
   "mimetype": "text/x-python",
   "name": "python",
   "nbconvert_exporter": "python",
   "pygments_lexer": "ipython3",
   "version": "3.8.8"
  },
  "orig_nbformat": 2,
  "kernelspec": {
   "name": "python3",
   "display_name": "Python 3.8.8 64-bit ('base': conda)"
  },
  "interpreter": {
   "hash": "9b996767fbd90d316bf01e24d5372486226990761c4b6556528915de02c83fbc"
  }
 },
 "nbformat": 4,
 "nbformat_minor": 2,
 "cells": [
  {
   "cell_type": "code",
   "execution_count": 1,
   "metadata": {},
   "outputs": [],
   "source": [
    "import pandas\n"
   ]
  },
  {
   "cell_type": "code",
   "execution_count": 2,
   "metadata": {},
   "outputs": [],
   "source": [
    "# assign directory\n",
    "dir_name = './datasets/'\n",
    "file_name = 'udemy.Business.csv'\n"
   ]
  },
  {
   "cell_type": "code",
   "execution_count": 3,
   "metadata": {},
   "outputs": [
    {
     "output_type": "stream",
     "name": "stdout",
     "text": [
      "<class 'pandas.core.frame.DataFrame'>\nRangeIndex: 9447 entries, 0 to 9446\nData columns (total 20 columns):\n #   Column                        Non-Null Count  Dtype  \n---  ------                        --------------  -----  \n 0   id                            9447 non-null   int64  \n 1   title                         9447 non-null   object \n 2   url                           9447 non-null   object \n 3   is_paid                       9447 non-null   bool   \n 4   num_subscribers               9447 non-null   int64  \n 5   avg_rating                    9447 non-null   float64\n 6   avg_rating_recent             9447 non-null   float64\n 7   rating                        9447 non-null   float64\n 8   num_reviews                   9447 non-null   int64  \n 9   is_wishlisted                 9447 non-null   bool   \n 10  num_published_lectures        9447 non-null   int64  \n 11  num_published_practice_tests  9447 non-null   int64  \n 12  created                       9447 non-null   object \n 13  published_time                9447 non-null   object \n 14  discount_price__amount        8937 non-null   float64\n 15  discount_price__currency      8937 non-null   object \n 16  discount_price__price_string  8937 non-null   object \n 17  price_detail__amount          9447 non-null   float64\n 18  price_detail__currency        9447 non-null   object \n 19  price_detail__price_string    9447 non-null   object \ndtypes: bool(2), float64(5), int64(5), object(8)\nmemory usage: 1.3+ MB\n"
     ]
    }
   ],
   "source": [
    "# load dataframe\n",
    "dir_name = './datasets/'\n",
    "file_name = 'udemy.Business.csv'\n",
    "\n",
    "coursesinfo_df = pandas.read_csv(dir_name + file_name, encoding=\"utf-8\", nrows=None)\n",
    "coursesinfo_df.info()"
   ]
  },
  {
   "cell_type": "code",
   "execution_count": 4,
   "metadata": {},
   "outputs": [
    {
     "output_type": "stream",
     "name": "stdout",
     "text": [
      "<class 'pandas.core.frame.DataFrame'>\nRangeIndex: 9447 entries, 0 to 9446\nData columns (total 14 columns):\n #   Column                        Non-Null Count  Dtype  \n---  ------                        --------------  -----  \n 0   id                            9447 non-null   int64  \n 1   title                         9447 non-null   object \n 2   url                           9447 non-null   object \n 3   is_paid                       9447 non-null   bool   \n 4   num_subscribers               9447 non-null   int64  \n 5   avg_rating                    9447 non-null   float64\n 6   avg_rating_recent             9447 non-null   float64\n 7   num_reviews                   9447 non-null   int64  \n 8   num_published_lectures        9447 non-null   int64  \n 9   num_published_practice_tests  9447 non-null   int64  \n 10  created                       9447 non-null   object \n 11  published_time                9447 non-null   object \n 12  discount_price__amount        8937 non-null   float64\n 13  price_detail__amount          9447 non-null   float64\ndtypes: bool(1), float64(4), int64(5), object(4)\nmemory usage: 968.8+ KB\n"
     ]
    }
   ],
   "source": [
    "# drop unused columns\n",
    "unusedcols = ['is_wishlisted',\n",
    "            'price_detail__currency',\n",
    "            'discount_price__currency',\n",
    "            'price_detail__price_string',\n",
    "            'discount_price__price_string',\n",
    "            'rating']\n",
    "coursesinfo_df = coursesinfo_df.drop(unusedcols, axis=1)\n",
    "coursesinfo_df.info()"
   ]
  },
  {
   "cell_type": "code",
   "execution_count": 5,
   "metadata": {},
   "outputs": [
    {
     "output_type": "stream",
     "name": "stdout",
     "text": [
      "<class 'pandas.core.frame.DataFrame'>\nRangeIndex: 9447 entries, 0 to 9446\nData columns (total 14 columns):\n #   Column                        Non-Null Count  Dtype  \n---  ------                        --------------  -----  \n 0   id                            9447 non-null   int64  \n 1   title                         9447 non-null   object \n 2   url                           9447 non-null   object \n 3   is_paid                       9447 non-null   bool   \n 4   num_subscribers               9447 non-null   int64  \n 5   avg_rating                    9447 non-null   float64\n 6   avg_rating_recent             9447 non-null   float64\n 7   num_reviews                   9447 non-null   int64  \n 8   num_published_lectures        9447 non-null   int64  \n 9   num_published_practice_tests  9447 non-null   int64  \n 10  created                       9447 non-null   object \n 11  published_time                9447 non-null   object \n 12  discount_price__amount        9447 non-null   float64\n 13  price_detail__amount          9447 non-null   float64\ndtypes: bool(1), float64(4), int64(5), object(4)\nmemory usage: 968.8+ KB\n"
     ]
    }
   ],
   "source": [
    "# replace null data in 'price_detail__amount' and 'discount_price__amount'\n",
    "coursesinfo_df['price_detail__amount'] = coursesinfo_df['price_detail__amount'].apply(lambda x: 0 if pandas.isnull(x) else x) \n",
    "coursesinfo_df['discount_price__amount'] = coursesinfo_df['discount_price__amount'].apply(lambda x: 0 if pandas.isnull(x) else x)\n",
    "coursesinfo_df.info()"
   ]
  },
  {
   "cell_type": "code",
   "execution_count": 6,
   "metadata": {},
   "outputs": [],
   "source": [
    "coursesinfo_df.to_csv(dir_name + 'preprocessed.' + file_name, encoding=\"utf-8\")"
   ]
  },
  {
   "cell_type": "code",
   "execution_count": null,
   "metadata": {},
   "outputs": [],
   "source": []
  }
 ]
}